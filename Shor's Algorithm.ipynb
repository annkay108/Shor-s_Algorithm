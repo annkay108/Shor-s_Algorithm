{
 "cells": [
  {
   "cell_type": "code",
   "execution_count": 1,
   "metadata": {},
   "outputs": [],
   "source": [
    "from qiskit.aqua.algorithms import Shor\n",
    "from qiskit.aqua import QuantumInstance\n",
    "import numpy as np\n",
    "from qiskit import QuantumCircuit, Aer, execute\n",
    "from qiskit.tools.visualization import plot_histogram"
   ]
  },
  {
   "cell_type": "code",
   "execution_count": 2,
   "metadata": {},
   "outputs": [],
   "source": [
    "backend = Aer.get_backend('qasm_simulator')\n",
    "quantum_instance = QuantumInstance(backend, shots=1000)\n",
    "my_shor = Shor(N=15, a=2,quantum_instance= quantum_instance)"
   ]
  },
  {
   "cell_type": "code",
   "execution_count": 3,
   "metadata": {},
   "outputs": [
    {
     "data": {
      "text/plain": [
       "{'factors': [[3, 5]], 'total_counts': 60, 'successful_counts': 14}"
      ]
     },
     "execution_count": 3,
     "metadata": {},
     "output_type": "execute_result"
    }
   ],
   "source": [
    "Shor.run(my_shor)"
   ]
  },
  {
   "cell_type": "code",
   "execution_count": 4,
   "metadata": {},
   "outputs": [],
   "source": [
    "def c_amod15(a,power):\n",
    "    U = QuantumCircuit(4)\n",
    "    for i in range(power):\n",
    "        U.swap(2,3)\n",
    "        U.swap(1,2)\n",
    "        U.swap(0,1)\n",
    "        for q in range(4):\n",
    "            U.x(q)\n",
    "    U=U.to_gate()\n",
    "    U.name=\"%i^%i mod 15\" %(a,power)\n",
    "    c_U = U.control()\n",
    "    return c_U"
   ]
  },
  {
   "cell_type": "code",
   "execution_count": 5,
   "metadata": {},
   "outputs": [],
   "source": [
    "n_count = 8\n",
    "a = 7"
   ]
  },
  {
   "cell_type": "code",
   "execution_count": 6,
   "metadata": {},
   "outputs": [],
   "source": [
    "def qft_dagger(n):\n",
    "    qc = QuantumCircuit(n)\n",
    "    for qubit in range(n//2):\n",
    "        qc.swap(qubit, n-qubit-1)\n",
    "    for j in range(n):\n",
    "        for m in range(j):\n",
    "            qc.cu1(-np.pi/float(2**(j-m)),m,j)\n",
    "        qc.h(j)\n",
    "    qc.name = 'QFT dagger'\n",
    "    return qc"
   ]
  },
  {
   "cell_type": "code",
   "execution_count": 7,
   "metadata": {
    "scrolled": true
   },
   "outputs": [
    {
     "name": "stderr",
     "output_type": "stream",
     "text": [
      "<ipython-input-6-fd3824fb7677>:7: DeprecationWarning: The QuantumCircuit.cu1 method is deprecated as of 0.16.0. It will be removed no earlier than 3 months after the release date. You should use the QuantumCircuit.cp method instead, which acts identically.\n",
      "  qc.cu1(-np.pi/float(2**(j-m)),m,j)\n"
     ]
    },
    {
     "data": {
      "text/html": [
       "<pre style=\"word-wrap: normal;white-space: pre;background: #fff0;line-height: 1.1;font-family: &quot;Courier New&quot;,Courier,monospace\">      ┌───┐                                                            »\n",
       " q_0: ┤ H ├───────■────────────────────────────────────────────────────»\n",
       "      ├───┤       │                                                    »\n",
       " q_1: ┤ H ├───────┼──────────────■─────────────────────────────────────»\n",
       "      ├───┤       │              │                                     »\n",
       " q_2: ┤ H ├───────┼──────────────┼──────────────■──────────────────────»\n",
       "      ├───┤       │              │              │                      »\n",
       " q_3: ┤ H ├───────┼──────────────┼──────────────┼──────────────■───────»\n",
       "      ├───┤       │              │              │              │       »\n",
       " q_4: ┤ H ├───────┼──────────────┼──────────────┼──────────────┼───────»\n",
       "      ├───┤       │              │              │              │       »\n",
       " q_5: ┤ H ├───────┼──────────────┼──────────────┼──────────────┼───────»\n",
       "      ├───┤       │              │              │              │       »\n",
       " q_6: ┤ H ├───────┼──────────────┼──────────────┼──────────────┼───────»\n",
       "      ├───┤       │              │              │              │       »\n",
       " q_7: ┤ H ├───────┼──────────────┼──────────────┼──────────────┼───────»\n",
       "      └───┘┌──────┴──────┐┌──────┴──────┐┌──────┴──────┐┌──────┴──────┐»\n",
       " q_8: ─────┤0            ├┤0            ├┤0            ├┤0            ├»\n",
       "           │             ││             ││             ││             │»\n",
       " q_9: ─────┤1            ├┤1            ├┤1            ├┤1            ├»\n",
       "           │  7^1 mod 15 ││  7^2 mod 15 ││  7^4 mod 15 ││  7^8 mod 15 │»\n",
       "q_10: ─────┤2            ├┤2            ├┤2            ├┤2            ├»\n",
       "      ┌───┐│             ││             ││             ││             │»\n",
       "q_11: ┤ X ├┤3            ├┤3            ├┤3            ├┤3            ├»\n",
       "      └───┘└─────────────┘└─────────────┘└─────────────┘└─────────────┘»\n",
       " c: 8/═════════════════════════════════════════════════════════════════»\n",
       "                                                                       »\n",
       "«                                                                       »\n",
       "« q_0: ─────────────────────────────────────────────────────────────────»\n",
       "«                                                                       »\n",
       "« q_1: ─────────────────────────────────────────────────────────────────»\n",
       "«                                                                       »\n",
       "« q_2: ─────────────────────────────────────────────────────────────────»\n",
       "«                                                                       »\n",
       "« q_3: ─────────────────────────────────────────────────────────────────»\n",
       "«                                                                       »\n",
       "« q_4: ───────■─────────────────────────────────────────────────────────»\n",
       "«             │                                                         »\n",
       "« q_5: ───────┼───────────────■─────────────────────────────────────────»\n",
       "«             │               │                                         »\n",
       "« q_6: ───────┼───────────────┼───────────────■─────────────────────────»\n",
       "«             │               │               │                         »\n",
       "« q_7: ───────┼───────────────┼───────────────┼────────────────■────────»\n",
       "«      ┌──────┴───────┐┌──────┴───────┐┌──────┴───────┐┌───────┴───────┐»\n",
       "« q_8: ┤0             ├┤0             ├┤0             ├┤0              ├»\n",
       "«      │              ││              ││              ││               │»\n",
       "« q_9: ┤1             ├┤1             ├┤1             ├┤1              ├»\n",
       "«      │  7^16 mod 15 ││  7^32 mod 15 ││  7^64 mod 15 ││  7^128 mod 15 │»\n",
       "«q_10: ┤2             ├┤2             ├┤2             ├┤2              ├»\n",
       "«      │              ││              ││              ││               │»\n",
       "«q_11: ┤3             ├┤3             ├┤3             ├┤3              ├»\n",
       "«      └──────────────┘└──────────────┘└──────────────┘└───────────────┘»\n",
       "« c: 8/═════════════════════════════════════════════════════════════════»\n",
       "«                                                                       »\n",
       "«      ┌─────────────┐┌─┐                     \n",
       "« q_0: ┤0            ├┤M├─────────────────────\n",
       "«      │             │└╥┘┌─┐                  \n",
       "« q_1: ┤1            ├─╫─┤M├──────────────────\n",
       "«      │             │ ║ └╥┘┌─┐               \n",
       "« q_2: ┤2            ├─╫──╫─┤M├───────────────\n",
       "«      │             │ ║  ║ └╥┘┌─┐            \n",
       "« q_3: ┤3            ├─╫──╫──╫─┤M├────────────\n",
       "«      │  QFT dagger │ ║  ║  ║ └╥┘┌─┐         \n",
       "« q_4: ┤4            ├─╫──╫──╫──╫─┤M├─────────\n",
       "«      │             │ ║  ║  ║  ║ └╥┘┌─┐      \n",
       "« q_5: ┤5            ├─╫──╫──╫──╫──╫─┤M├──────\n",
       "«      │             │ ║  ║  ║  ║  ║ └╥┘┌─┐   \n",
       "« q_6: ┤6            ├─╫──╫──╫──╫──╫──╫─┤M├───\n",
       "«      │             │ ║  ║  ║  ║  ║  ║ └╥┘┌─┐\n",
       "« q_7: ┤7            ├─╫──╫──╫──╫──╫──╫──╫─┤M├\n",
       "«      └─────────────┘ ║  ║  ║  ║  ║  ║  ║ └╥┘\n",
       "« q_8: ────────────────╫──╫──╫──╫──╫──╫──╫──╫─\n",
       "«                      ║  ║  ║  ║  ║  ║  ║  ║ \n",
       "« q_9: ────────────────╫──╫──╫──╫──╫──╫──╫──╫─\n",
       "«                      ║  ║  ║  ║  ║  ║  ║  ║ \n",
       "«q_10: ────────────────╫──╫──╫──╫──╫──╫──╫──╫─\n",
       "«                      ║  ║  ║  ║  ║  ║  ║  ║ \n",
       "«q_11: ────────────────╫──╫──╫──╫──╫──╫──╫──╫─\n",
       "«                      ║  ║  ║  ║  ║  ║  ║  ║ \n",
       "« c: 8/════════════════╩══╩══╩══╩══╩══╩══╩══╩═\n",
       "«                      0  1  2  3  4  5  6  7 </pre>"
      ],
      "text/plain": [
       "      ┌───┐                                                            »\n",
       " q_0: ┤ H ├───────■────────────────────────────────────────────────────»\n",
       "      ├───┤       │                                                    »\n",
       " q_1: ┤ H ├───────┼──────────────■─────────────────────────────────────»\n",
       "      ├───┤       │              │                                     »\n",
       " q_2: ┤ H ├───────┼──────────────┼──────────────■──────────────────────»\n",
       "      ├───┤       │              │              │                      »\n",
       " q_3: ┤ H ├───────┼──────────────┼──────────────┼──────────────■───────»\n",
       "      ├───┤       │              │              │              │       »\n",
       " q_4: ┤ H ├───────┼──────────────┼──────────────┼──────────────┼───────»\n",
       "      ├───┤       │              │              │              │       »\n",
       " q_5: ┤ H ├───────┼──────────────┼──────────────┼──────────────┼───────»\n",
       "      ├───┤       │              │              │              │       »\n",
       " q_6: ┤ H ├───────┼──────────────┼──────────────┼──────────────┼───────»\n",
       "      ├───┤       │              │              │              │       »\n",
       " q_7: ┤ H ├───────┼──────────────┼──────────────┼──────────────┼───────»\n",
       "      └───┘┌──────┴──────┐┌──────┴──────┐┌──────┴──────┐┌──────┴──────┐»\n",
       " q_8: ─────┤0            ├┤0            ├┤0            ├┤0            ├»\n",
       "           │             ││             ││             ││             │»\n",
       " q_9: ─────┤1            ├┤1            ├┤1            ├┤1            ├»\n",
       "           │  7^1 mod 15 ││  7^2 mod 15 ││  7^4 mod 15 ││  7^8 mod 15 │»\n",
       "q_10: ─────┤2            ├┤2            ├┤2            ├┤2            ├»\n",
       "      ┌───┐│             ││             ││             ││             │»\n",
       "q_11: ┤ X ├┤3            ├┤3            ├┤3            ├┤3            ├»\n",
       "      └───┘└─────────────┘└─────────────┘└─────────────┘└─────────────┘»\n",
       " c: 8/═════════════════════════════════════════════════════════════════»\n",
       "                                                                       »\n",
       "«                                                                       »\n",
       "« q_0: ─────────────────────────────────────────────────────────────────»\n",
       "«                                                                       »\n",
       "« q_1: ─────────────────────────────────────────────────────────────────»\n",
       "«                                                                       »\n",
       "« q_2: ─────────────────────────────────────────────────────────────────»\n",
       "«                                                                       »\n",
       "« q_3: ─────────────────────────────────────────────────────────────────»\n",
       "«                                                                       »\n",
       "« q_4: ───────■─────────────────────────────────────────────────────────»\n",
       "«             │                                                         »\n",
       "« q_5: ───────┼───────────────■─────────────────────────────────────────»\n",
       "«             │               │                                         »\n",
       "« q_6: ───────┼───────────────┼───────────────■─────────────────────────»\n",
       "«             │               │               │                         »\n",
       "« q_7: ───────┼───────────────┼───────────────┼────────────────■────────»\n",
       "«      ┌──────┴───────┐┌──────┴───────┐┌──────┴───────┐┌───────┴───────┐»\n",
       "« q_8: ┤0             ├┤0             ├┤0             ├┤0              ├»\n",
       "«      │              ││              ││              ││               │»\n",
       "« q_9: ┤1             ├┤1             ├┤1             ├┤1              ├»\n",
       "«      │  7^16 mod 15 ││  7^32 mod 15 ││  7^64 mod 15 ││  7^128 mod 15 │»\n",
       "«q_10: ┤2             ├┤2             ├┤2             ├┤2              ├»\n",
       "«      │              ││              ││              ││               │»\n",
       "«q_11: ┤3             ├┤3             ├┤3             ├┤3              ├»\n",
       "«      └──────────────┘└──────────────┘└──────────────┘└───────────────┘»\n",
       "« c: 8/═════════════════════════════════════════════════════════════════»\n",
       "«                                                                       »\n",
       "«      ┌─────────────┐┌─┐                     \n",
       "« q_0: ┤0            ├┤M├─────────────────────\n",
       "«      │             │└╥┘┌─┐                  \n",
       "« q_1: ┤1            ├─╫─┤M├──────────────────\n",
       "«      │             │ ║ └╥┘┌─┐               \n",
       "« q_2: ┤2            ├─╫──╫─┤M├───────────────\n",
       "«      │             │ ║  ║ └╥┘┌─┐            \n",
       "« q_3: ┤3            ├─╫──╫──╫─┤M├────────────\n",
       "«      │  QFT dagger │ ║  ║  ║ └╥┘┌─┐         \n",
       "« q_4: ┤4            ├─╫──╫──╫──╫─┤M├─────────\n",
       "«      │             │ ║  ║  ║  ║ └╥┘┌─┐      \n",
       "« q_5: ┤5            ├─╫──╫──╫──╫──╫─┤M├──────\n",
       "«      │             │ ║  ║  ║  ║  ║ └╥┘┌─┐   \n",
       "« q_6: ┤6            ├─╫──╫──╫──╫──╫──╫─┤M├───\n",
       "«      │             │ ║  ║  ║  ║  ║  ║ └╥┘┌─┐\n",
       "« q_7: ┤7            ├─╫──╫──╫──╫──╫──╫──╫─┤M├\n",
       "«      └─────────────┘ ║  ║  ║  ║  ║  ║  ║ └╥┘\n",
       "« q_8: ────────────────╫──╫──╫──╫──╫──╫──╫──╫─\n",
       "«                      ║  ║  ║  ║  ║  ║  ║  ║ \n",
       "« q_9: ────────────────╫──╫──╫──╫──╫──╫──╫──╫─\n",
       "«                      ║  ║  ║  ║  ║  ║  ║  ║ \n",
       "«q_10: ────────────────╫──╫──╫──╫──╫──╫──╫──╫─\n",
       "«                      ║  ║  ║  ║  ║  ║  ║  ║ \n",
       "«q_11: ────────────────╫──╫──╫──╫──╫──╫──╫──╫─\n",
       "«                      ║  ║  ║  ║  ║  ║  ║  ║ \n",
       "« c: 8/════════════════╩══╩══╩══╩══╩══╩══╩══╩═\n",
       "«                      0  1  2  3  4  5  6  7 "
      ]
     },
     "execution_count": 7,
     "metadata": {},
     "output_type": "execute_result"
    }
   ],
   "source": [
    "qc = QuantumCircuit(n_count + 4, n_count)\n",
    "\n",
    "for q in range(n_count):\n",
    "    qc.h(q)\n",
    "qc.x(3+n_count)\n",
    "for q in range(n_count):\n",
    "    qc.append(c_amod15(a,2**q),[q]+[i+n_count for i in range(4)])\n",
    "    \n",
    "qc.append(qft_dagger(n_count), range(n_count))\n",
    "\n",
    "qc.measure(range(n_count), range(n_count))\n",
    "\n",
    "qc.draw('text')"
   ]
  },
  {
   "cell_type": "code",
   "execution_count": 8,
   "metadata": {},
   "outputs": [
    {
     "data": {
      "image/png": "[encoded data removed]",
      "text/plain": [
       "<Figure size 504x360 with 1 Axes>"
      ]
     },
     "execution_count": 8,
     "metadata": {},
     "output_type": "execute_result"
    }
   ],
   "source": [
    "backend = Aer.get_backend('qasm_simulator')\n",
    "results = execute(qc, backend, shots= 2048).result()\n",
    "counts = results.get_counts()\n",
    "plot_histogram(counts)"
   ]
  },
  {
   "cell_type": "code",
   "execution_count": null,
   "metadata": {},
   "outputs": [],
   "source": []
  }
 ],
 "metadata": {
  "kernelspec": {
   "display_name": "Python 3",
   "language": "python",
   "name": "python3"
  },
  "language_info": {
   "codemirror_mode": {
    "name": "ipython",
    "version": 3
   },
   "file_extension": ".py",
   "mimetype": "text/x-python",
   "name": "python",
   "nbconvert_exporter": "python",
   "pygments_lexer": "ipython3",
   "version": "3.8.5"
  }
 },
 "nbformat": 4,
 "nbformat_minor": 4
}
